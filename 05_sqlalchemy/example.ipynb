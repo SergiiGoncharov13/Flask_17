{
 "cells": [
  {
   "cell_type": "code",
   "execution_count": 1,
   "metadata": {},
   "outputs": [],
   "source": [
    "from sqlalchemy.engine import create_engine\n",
    "from sqlalchemy.orm import sessionmaker, declarative_base, relationship\n",
    "from sqlalchemy import Column, String, Integer, Text, ForeignKey\n",
    "\n",
    "\n",
    "engine = create_engine('sqlite:///alchemy_test.db')\n",
    "Session = sessionmaker(bind=engine)\n",
    "session = Session()\n",
    "Base = declarative_base()\n",
    "\n",
    "\n",
    "class User(Base):\n",
    "    __tablename__ = 'users'\n",
    "    id = Column(Integer(), primary_key=True)\n",
    "    name = Column(String(30))\n",
    "    arcticles = relationship('Arcticle', back_populates='author')\n",
    "\n",
    "\n",
    "class Arcticle(Base):\n",
    "    __tablename__ = 'arcticles' \n",
    "    id = Column(Integer(), primary_key=True)\n",
    "    title = Column(String(100))\n",
    "    content = Column(String(400))\n",
    "    user_id = Column(Integer(), ForeignKey('users.id'))\n",
    "    author = relationship('User', back_populates='arcticles')\n",
    "\n",
    "\n",
    "Base.metadata.create_all(engine)\n",
    "Base.metadata.bind = engine\n",
    "\n"
   ]
  },
  {
   "cell_type": "code",
   "execution_count": 3,
   "metadata": {},
   "outputs": [],
   "source": [
    "# Create \n",
    "\n",
    "user = User(name='Bob')\n",
    "session.add(user)\n",
    "session.commit()\n",
    "\n",
    "arcticle = Arcticle(title='Country',\n",
    "    content = 'descriptin',\n",
    "    user_id = user.id)\n",
    "session.add(arcticle)\n",
    "session.commit()\n",
    "\n"
   ]
  },
  {
   "cell_type": "code",
   "execution_count": 4,
   "metadata": {},
   "outputs": [],
   "source": [
    "user = User(name='Ron')\n",
    "session.add(user)\n",
    "session.commit()\n",
    "\n",
    "arcticle = Arcticle(title='Zero',\n",
    "    content = 'text',\n",
    "    user_id = user.id)\n",
    "session.add(arcticle)\n",
    "session.commit()"
   ]
  },
  {
   "cell_type": "code",
   "execution_count": 5,
   "metadata": {},
   "outputs": [],
   "source": [
    "user = User(name='Harry')\n",
    "session.add(user)\n",
    "session.commit()\n",
    "\n",
    "arcticle = Arcticle(title='food',\n",
    "    content = 'some food',\n",
    "    user_id = user.id)\n",
    "session.add(arcticle)\n",
    "session.commit()"
   ]
  },
  {
   "cell_type": "code",
   "execution_count": 18,
   "metadata": {},
   "outputs": [
    {
     "name": "stdout",
     "output_type": "stream",
     "text": [
      "2 Ron\n"
     ]
    },
    {
     "name": "stderr",
     "output_type": "stream",
     "text": [
      "/var/folders/r4/h5bdp5mn4tbgmvjv1_hp48dc0000gn/T/ipykernel_72320/660063192.py:3: LegacyAPIWarning: The Query.get() method is considered legacy as of the 1.x series of SQLAlchemy and becomes a legacy construct in 2.0. The method is now available as Session.get() (deprecated since: 2.0) (Background on SQLAlchemy 2.0 at: https://sqlalche.me/e/b8d9)\n",
      "  user = session.query(User).get(2)\n"
     ]
    }
   ],
   "source": [
    "# read \n",
    "\n",
    "user = session.query(User).get(2)\n",
    "print(user.id, user.name)\n"
   ]
  },
  {
   "cell_type": "code",
   "execution_count": 20,
   "metadata": {},
   "outputs": [
    {
     "name": "stdout",
     "output_type": "stream",
     "text": [
      "1 Bob\n",
      "2 Ron\n",
      "3 Harry\n"
     ]
    }
   ],
   "source": [
    "users = session.query(User).all()\n",
    "\n",
    "for user in users:\n",
    "    print(user.id, user.name)"
   ]
  },
  {
   "cell_type": "code",
   "execution_count": 23,
   "metadata": {},
   "outputs": [
    {
     "name": "stdout",
     "output_type": "stream",
     "text": [
      "2 Ron\n",
      "3 Harry\n"
     ]
    }
   ],
   "source": [
    "user1 = session.query(User).filter_by(name='Ron').first()\n",
    "user2 = session.query(User).filter_by(id=3).first()\n",
    "\n",
    "\n",
    "print(user1.id, user1.name)\n",
    "print(user2.id, user2.name)"
   ]
  },
  {
   "cell_type": "code",
   "execution_count": 24,
   "metadata": {},
   "outputs": [
    {
     "name": "stderr",
     "output_type": "stream",
     "text": [
      "/var/folders/r4/h5bdp5mn4tbgmvjv1_hp48dc0000gn/T/ipykernel_72320/4236775379.py:3: LegacyAPIWarning: The Query.get() method is considered legacy as of the 1.x series of SQLAlchemy and becomes a legacy construct in 2.0. The method is now available as Session.get() (deprecated since: 2.0) (Background on SQLAlchemy 2.0 at: https://sqlalche.me/e/b8d9)\n",
      "  arcticle = session.query(Arcticle).get(1)\n"
     ]
    }
   ],
   "source": [
    "# Update\n",
    "\n",
    "arcticle = session.query(Arcticle).get(1)\n",
    "arcticle.content = 'fix description'\n",
    "session.add(arcticle)\n",
    "session.commit()\n"
   ]
  },
  {
   "cell_type": "code",
   "execution_count": 25,
   "metadata": {},
   "outputs": [
    {
     "name": "stderr",
     "output_type": "stream",
     "text": [
      "/var/folders/r4/h5bdp5mn4tbgmvjv1_hp48dc0000gn/T/ipykernel_72320/3393752518.py:1: LegacyAPIWarning: The Query.get() method is considered legacy as of the 1.x series of SQLAlchemy and becomes a legacy construct in 2.0. The method is now available as Session.get() (deprecated since: 2.0) (Background on SQLAlchemy 2.0 at: https://sqlalche.me/e/b8d9)\n",
      "  arcticle = session.query(Arcticle).get(2)\n"
     ]
    }
   ],
   "source": [
    "arcticle = session.query(Arcticle).get(2)\n",
    "arcticle.content = 'fix text'\n",
    "session.add(arcticle)\n",
    "session.commit()"
   ]
  },
  {
   "cell_type": "code",
   "execution_count": 27,
   "metadata": {},
   "outputs": [
    {
     "name": "stderr",
     "output_type": "stream",
     "text": [
      "/var/folders/r4/h5bdp5mn4tbgmvjv1_hp48dc0000gn/T/ipykernel_72320/446979788.py:3: LegacyAPIWarning: The Query.get() method is considered legacy as of the 1.x series of SQLAlchemy and becomes a legacy construct in 2.0. The method is now available as Session.get() (deprecated since: 2.0) (Background on SQLAlchemy 2.0 at: https://sqlalche.me/e/b8d9)\n",
      "  arcticle = session.query(Arcticle).get(3)\n"
     ]
    }
   ],
   "source": [
    "# delete \n",
    "\n",
    "arcticle = session.query(Arcticle).get(3)\n",
    "session.delete(arcticle)\n",
    "session.commit()"
   ]
  },
  {
   "cell_type": "markdown",
   "metadata": {},
   "source": [
    "## version 2"
   ]
  },
  {
   "cell_type": "code",
   "execution_count": 32,
   "metadata": {},
   "outputs": [],
   "source": [
    "from sqlalchemy import create_engine, Integer, String, ForeignKey, select, Text, and_, desc, func\n",
    "from sqlalchemy.orm import declarative_base, sessionmaker, Mapped, mapped_column, relationship\n",
    "\n",
    "engine = create_engine('sqlite:///:memory:', echo=False)  \n",
    "DBSession = sessionmaker(bind=engine)\n",
    "session = DBSession()\n",
    "\n",
    "Base = declarative_base()\n",
    "\n",
    "\n",
    "class User(Base):\n",
    "    __tablename__ = 'users'\n",
    "    id: Mapped[int] = mapped_column(primary_key=True)\n",
    "    fullname: Mapped[str] = mapped_column(String)\n",
    "\n",
    "\n",
    "class Post(Base):\n",
    "    __tablename__ = 'post'\n",
    "    id: Mapped[int] = mapped_column(primary_key=True)\n",
    "    title: Mapped[str] = mapped_column(String(50), nullable=False, index=True)\n",
    "    body: Mapped[str] = mapped_column(Text, nullable=False)\n",
    "    user_id: Mapped[str] = mapped_column('user_id', Integer, ForeignKey('users.id'))\n",
    "    user: Mapped['User'] = relationship(User)\n",
    "\n",
    "\n",
    "Base.metadata.create_all(engine)"
   ]
  },
  {
   "cell_type": "code",
   "execution_count": 33,
   "metadata": {},
   "outputs": [],
   "source": [
    "names = ['Harry', 'Sam', 'Paul']\n",
    "for name in names:\n",
    "    user = User(fullname=name)\n",
    "    session.add(user)\n",
    "session.commit()"
   ]
  },
  {
   "cell_type": "code",
   "execution_count": 34,
   "metadata": {},
   "outputs": [
    {
     "name": "stdout",
     "output_type": "stream",
     "text": [
      "1 Harry\n",
      "2 Sam\n",
      "3 Paul\n"
     ]
    }
   ],
   "source": [
    "smb = select(User)\n",
    "res = session.execute(smb)\n",
    "for user in res.scalars():\n",
    "    print(user.id, user.fullname)"
   ]
  }
 ],
 "metadata": {
  "kernelspec": {
   "display_name": "venv",
   "language": "python",
   "name": "python3"
  },
  "language_info": {
   "codemirror_mode": {
    "name": "ipython",
    "version": 3
   },
   "file_extension": ".py",
   "mimetype": "text/x-python",
   "name": "python",
   "nbconvert_exporter": "python",
   "pygments_lexer": "ipython3",
   "version": "3.12.4"
  }
 },
 "nbformat": 4,
 "nbformat_minor": 2
}
